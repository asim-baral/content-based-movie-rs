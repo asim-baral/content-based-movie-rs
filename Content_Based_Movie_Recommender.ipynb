{
  "cells": [
    {
      "cell_type": "code",
      "execution_count": 1,
      "metadata": {
        "id": "fFK0oXJTIhjp"
      },
      "outputs": [],
      "source": [
        "import pandas as pd\n",
        "from sklearn.feature_extraction.text import CountVectorizer\n",
        "from sklearn.metrics.pairwise import cosine_similarity"
      ]
    },
    {
      "cell_type": "code",
      "execution_count": 2,
      "metadata": {
        "id": "DZ-BUnn_JSb3"
      },
      "outputs": [],
      "source": [
        "url = \"https://raw.githubusercontent.com/yinghaoz1/tmdb-movie-dataset-analysis/refs/heads/master/tmdb-movies.csv\"\n",
        "importedDf = pd.read_csv(url)"
      ]
    },
    {
      "cell_type": "code",
      "execution_count": 3,
      "metadata": {
        "colab": {
          "base_uri": "https://localhost:8080/",
          "height": 742
        },
        "id": "KNGwGgAhL1hX",
        "outputId": "79027a70-3c2f-44b1-e494-01dfa931dee7"
      },
      "outputs": [
        {
          "data": {
            "text/plain": [
              "id                                                                 135397\n",
              "imdb_id                                                         tt0369610\n",
              "popularity                                                      32.985763\n",
              "budget                                                          150000000\n",
              "revenue                                                        1513528810\n",
              "original_title                                             Jurassic World\n",
              "cast                    Chris Pratt|Bryce Dallas Howard|Irrfan Khan|Vi...\n",
              "homepage                                    http://www.jurassicworld.com/\n",
              "director                                                  Colin Trevorrow\n",
              "tagline                                                 The park is open.\n",
              "keywords                monster|dna|tyrannosaurus rex|velociraptor|island\n",
              "overview                Twenty-two years after the events of Jurassic ...\n",
              "runtime                                                               124\n",
              "genres                          Action|Adventure|Science Fiction|Thriller\n",
              "production_companies    Universal Studios|Amblin Entertainment|Legenda...\n",
              "release_date                                                       6/9/15\n",
              "vote_count                                                           5562\n",
              "vote_average                                                          6.5\n",
              "release_year                                                         2015\n",
              "budget_adj                                               137999939.280026\n",
              "revenue_adj                                               1392445892.5238\n",
              "Name: 0, dtype: object"
            ]
          },
          "execution_count": 3,
          "metadata": {},
          "output_type": "execute_result"
        }
      ],
      "source": [
        "importedDf.iloc[0]"
      ]
    },
    {
      "cell_type": "code",
      "execution_count": 4,
      "metadata": {
        "colab": {
          "base_uri": "https://localhost:8080/"
        },
        "id": "PzU94q_3LNgi",
        "outputId": "b057ab98-f7bb-430a-9e2f-41cfc001dbd7"
      },
      "outputs": [
        {
          "name": "stdout",
          "output_type": "stream",
          "text": [
            "<class 'pandas.core.frame.DataFrame'>\n",
            "RangeIndex: 10866 entries, 0 to 10865\n",
            "Data columns (total 21 columns):\n",
            " #   Column                Non-Null Count  Dtype  \n",
            "---  ------                --------------  -----  \n",
            " 0   id                    10866 non-null  int64  \n",
            " 1   imdb_id               10856 non-null  object \n",
            " 2   popularity            10866 non-null  float64\n",
            " 3   budget                10866 non-null  int64  \n",
            " 4   revenue               10866 non-null  int64  \n",
            " 5   original_title        10866 non-null  object \n",
            " 6   cast                  10790 non-null  object \n",
            " 7   homepage              2936 non-null   object \n",
            " 8   director              10822 non-null  object \n",
            " 9   tagline               8042 non-null   object \n",
            " 10  keywords              9373 non-null   object \n",
            " 11  overview              10862 non-null  object \n",
            " 12  runtime               10866 non-null  int64  \n",
            " 13  genres                10843 non-null  object \n",
            " 14  production_companies  9836 non-null   object \n",
            " 15  release_date          10866 non-null  object \n",
            " 16  vote_count            10866 non-null  int64  \n",
            " 17  vote_average          10866 non-null  float64\n",
            " 18  release_year          10866 non-null  int64  \n",
            " 19  budget_adj            10866 non-null  float64\n",
            " 20  revenue_adj           10866 non-null  float64\n",
            "dtypes: float64(4), int64(6), object(11)\n",
            "memory usage: 1.7+ MB\n"
          ]
        }
      ],
      "source": [
        "importedDf.info()"
      ]
    },
    {
      "cell_type": "code",
      "execution_count": 5,
      "metadata": {
        "colab": {
          "base_uri": "https://localhost:8080/"
        },
        "id": "SEGrcRIXLPoV",
        "outputId": "ff74b9f2-8a6c-4ca2-a29e-415f7539d80f"
      },
      "outputs": [
        {
          "name": "stdout",
          "output_type": "stream",
          "text": [
            "<class 'pandas.core.frame.DataFrame'>\n",
            "RangeIndex: 10866 entries, 0 to 10865\n",
            "Data columns (total 9 columns):\n",
            " #   Column          Non-Null Count  Dtype  \n",
            "---  ------          --------------  -----  \n",
            " 0   imdb_id         10856 non-null  object \n",
            " 1   original_title  10866 non-null  object \n",
            " 2   cast            10790 non-null  object \n",
            " 3   director        10822 non-null  object \n",
            " 4   keywords        9373 non-null   object \n",
            " 5   overview        10862 non-null  object \n",
            " 6   genres          10843 non-null  object \n",
            " 7   vote_average    10866 non-null  float64\n",
            " 8   release_year    10866 non-null  int64  \n",
            "dtypes: float64(1), int64(1), object(7)\n",
            "memory usage: 764.1+ KB\n"
          ]
        }
      ],
      "source": [
        "df = importedDf.loc[:,['imdb_id', 'original_title', 'cast', 'director', 'keywords', 'overview', 'genres', 'vote_average', 'release_year']]\n",
        "df.info()"
      ]
    },
    {
      "cell_type": "code",
      "execution_count": 6,
      "metadata": {
        "colab": {
          "base_uri": "https://localhost:8080/"
        },
        "id": "Lx2jQcQAMx1s",
        "outputId": "3c2ea105-228a-4c1c-9bd9-2bb26539c812"
      },
      "outputs": [
        {
          "name": "stdout",
          "output_type": "stream",
          "text": [
            "<class 'pandas.core.frame.DataFrame'>\n",
            "RangeIndex: 9303 entries, 0 to 9302\n",
            "Data columns (total 9 columns):\n",
            " #   Column          Non-Null Count  Dtype  \n",
            "---  ------          --------------  -----  \n",
            " 0   imdb_id         9303 non-null   object \n",
            " 1   original_title  9303 non-null   object \n",
            " 2   cast            9303 non-null   object \n",
            " 3   director        9303 non-null   object \n",
            " 4   keywords        9303 non-null   object \n",
            " 5   overview        9303 non-null   object \n",
            " 6   genres          9303 non-null   object \n",
            " 7   vote_average    9303 non-null   float64\n",
            " 8   release_year    9303 non-null   int64  \n",
            "dtypes: float64(1), int64(1), object(7)\n",
            "memory usage: 654.2+ KB\n"
          ]
        }
      ],
      "source": [
        "df = df.dropna().reset_index(drop=True)\n",
        "df.info()"
      ]
    },
    {
      "cell_type": "code",
      "execution_count": 7,
      "metadata": {
        "id": "BoqvKzanNZ9a"
      },
      "outputs": [],
      "source": [
        "df.cast = df.cast.str.replace(' ','_')\n",
        "df.cast = df.cast.str.replace('|',' ')"
      ]
    },
    {
      "cell_type": "code",
      "execution_count": 8,
      "metadata": {
        "colab": {
          "base_uri": "https://localhost:8080/",
          "height": 36
        },
        "id": "SsbqtKv0GM5u",
        "outputId": "d6992024-156b-4d3a-910e-971fabddb6e2"
      },
      "outputs": [
        {
          "data": {
            "text/plain": [
              "'Tom_Hardy Charlize_Theron Hugh_Keays-Byrne Nicholas_Hoult Josh_Helman'"
            ]
          },
          "execution_count": 8,
          "metadata": {},
          "output_type": "execute_result"
        }
      ],
      "source": [
        "df.iloc[1].cast"
      ]
    },
    {
      "cell_type": "code",
      "execution_count": 9,
      "metadata": {
        "colab": {
          "base_uri": "https://localhost:8080/",
          "height": 458
        },
        "id": "FKmxylucGoof",
        "outputId": "feaba01f-ceb0-4df7-85d4-0fd2ddeb08c2"
      },
      "outputs": [
        {
          "data": {
            "text/plain": [
              "0          Colin_Trevorrow\n",
              "1            George_Miller\n",
              "2         Robert_Schwentke\n",
              "3              J.J._Abrams\n",
              "4                James_Wan\n",
              "               ...        \n",
              "9298           Bruce_Brown\n",
              "9299    John_Frankenheimer\n",
              "9300        Eldar_Ryazanov\n",
              "9301           Woody_Allen\n",
              "9302      Harold_P._Warren\n",
              "Name: director, Length: 9303, dtype: object"
            ]
          },
          "execution_count": 9,
          "metadata": {},
          "output_type": "execute_result"
        }
      ],
      "source": [
        "df.director = df.director.str.replace(\" \", '_')\n",
        "df.director"
      ]
    },
    {
      "cell_type": "code",
      "execution_count": 10,
      "metadata": {
        "colab": {
          "base_uri": "https://localhost:8080/",
          "height": 458
        },
        "id": "8EGwdjBGGvg4",
        "outputId": "b707d1b3-3d3a-4b0d-f136-33a10800a97d"
      },
      "outputs": [
        {
          "data": {
            "text/plain": [
              "0       monster dna tyrannosaurus_rex velociraptor island\n",
              "1        future chase post-apocalyptic dystopia australia\n",
              "2       based_on_novel revolution dystopia sequel dyst...\n",
              "3                   android spaceship jedi space_opera 3d\n",
              "4                     car_race speed revenge suspense car\n",
              "                              ...                        \n",
              "9298                             surfer surfboard surfing\n",
              "9299                            car_race racing formula_1\n",
              "9300                             car trolley stealing_car\n",
              "9301                                                spoof\n",
              "9302                  fire gun drive sacrifice flashlight\n",
              "Name: keywords, Length: 9303, dtype: object"
            ]
          },
          "execution_count": 10,
          "metadata": {},
          "output_type": "execute_result"
        }
      ],
      "source": [
        "df.keywords = df.keywords.str.replace(' ','_')\n",
        "df.keywords = df.keywords.str.replace('|',' ')\n",
        "\n",
        "df.keywords"
      ]
    },
    {
      "cell_type": "code",
      "execution_count": 11,
      "metadata": {
        "colab": {
          "base_uri": "https://localhost:8080/",
          "height": 458
        },
        "id": "-lxWTUMRG5Wq",
        "outputId": "29b30841-1f14-4649-ce11-7cd87f17a645"
      },
      "outputs": [
        {
          "data": {
            "text/plain": [
              "0       Action Adventure Science_Fiction Thriller\n",
              "1       Action Adventure Science_Fiction Thriller\n",
              "2              Adventure Science_Fiction Thriller\n",
              "3        Action Adventure Science_Fiction Fantasy\n",
              "4                           Action Crime Thriller\n",
              "                          ...                    \n",
              "9298                                  Documentary\n",
              "9299                       Action Adventure Drama\n",
              "9300                               Mystery Comedy\n",
              "9301                                Action Comedy\n",
              "9302                                       Horror\n",
              "Name: genres, Length: 9303, dtype: object"
            ]
          },
          "execution_count": 11,
          "metadata": {},
          "output_type": "execute_result"
        }
      ],
      "source": [
        "df.genres = df.genres.str.replace(' ','_')\n",
        "df.genres = df.genres.str.replace('|',' ')\n",
        "\n",
        "df.genres"
      ]
    },
    {
      "cell_type": "code",
      "execution_count": 12,
      "metadata": {
        "colab": {
          "base_uri": "https://localhost:8080/",
          "height": 458
        },
        "id": "jiFI3BhTHKV5",
        "outputId": "7eabdcd5-1d94-4616-809f-fa6ae9a4e047"
      },
      "outputs": [
        {
          "data": {
            "text/plain": [
              "0       2010\n",
              "1       2010\n",
              "2       2010\n",
              "3       2010\n",
              "4       2010\n",
              "        ... \n",
              "9298    1960\n",
              "9299    1960\n",
              "9300    1960\n",
              "9301    1960\n",
              "9302    1960\n",
              "Name: release_year, Length: 9303, dtype: int64"
            ]
          },
          "execution_count": 12,
          "metadata": {},
          "output_type": "execute_result"
        }
      ],
      "source": [
        "df.release_year = ((df.release_year)//10)*10\n",
        "df.release_year"
      ]
    },
    {
      "cell_type": "code",
      "execution_count": 13,
      "metadata": {
        "colab": {
          "base_uri": "https://localhost:8080/",
          "height": 53
        },
        "id": "Xa8qgMbSHb-T",
        "outputId": "70aab698-651e-4c1a-c946-72de9e258e0a"
      },
      "outputs": [
        {
          "data": {
            "text/plain": [
              "\"chris_pratt bryce_dallas_howard irrfan_khan vincent_d'onofrio nick_robinson colin_trevorrow monster dna tyrannosaurus_rex velociraptor island action adventure science_fiction thriller twenty-two years after the events of jurassic park, isla nublar now features a fully functioning dinosaur theme park, jurassic world, as originally envisioned by john hammond.\""
            ]
          },
          "execution_count": 13,
          "metadata": {},
          "output_type": "execute_result"
        }
      ],
      "source": [
        "df['tags'] = df.cast + ' ' + df.director + ' ' + df.keywords + ' ' + df.genres + ' ' + df.overview\n",
        "df['tags'] = df['tags'].str.lower()\n",
        "df.tags[0]"
      ]
    },
    {
      "cell_type": "code",
      "execution_count": 14,
      "metadata": {
        "colab": {
          "base_uri": "https://localhost:8080/"
        },
        "id": "L_eD2xH-UG45",
        "outputId": "13615b1d-0eb7-40e8-9d71-1db8b62cb2f0"
      },
      "outputs": [
        {
          "name": "stdout",
          "output_type": "stream",
          "text": [
            "<class 'pandas.core.frame.DataFrame'>\n",
            "RangeIndex: 9303 entries, 0 to 9302\n",
            "Data columns (total 10 columns):\n",
            " #   Column          Non-Null Count  Dtype  \n",
            "---  ------          --------------  -----  \n",
            " 0   imdb_id         9303 non-null   object \n",
            " 1   original_title  9303 non-null   object \n",
            " 2   cast            9303 non-null   object \n",
            " 3   director        9303 non-null   object \n",
            " 4   keywords        9303 non-null   object \n",
            " 5   overview        9303 non-null   object \n",
            " 6   genres          9303 non-null   object \n",
            " 7   vote_average    9303 non-null   float64\n",
            " 8   release_year    9303 non-null   int64  \n",
            " 9   tags            9303 non-null   object \n",
            "dtypes: float64(1), int64(1), object(8)\n",
            "memory usage: 726.9+ KB\n"
          ]
        }
      ],
      "source": [
        "df.dropna(inplace=True)\n",
        "df.reset_index(drop=True, inplace=True)\n",
        "df.info()"
      ]
    },
    {
      "cell_type": "code",
      "execution_count": 15,
      "metadata": {},
      "outputs": [],
      "source": [
        "df = df.drop(columns = ['cast', 'director', 'keywords', 'overview', 'genres', 'release_year'])"
      ]
    },
    {
      "cell_type": "markdown",
      "metadata": {},
      "source": [
        "#Using Count Vectorizer"
      ]
    },
    {
      "cell_type": "code",
      "execution_count": 16,
      "metadata": {
        "id": "RTXT9s7Mddv-"
      },
      "outputs": [],
      "source": [
        "# Using count vectorizer to convert text data into a matrix of token counts\n",
        "# from nltk.stem.porter import PorterStemmer\n",
        "# ps = PorterStemmer()\n",
        "\n",
        "# def stem(text):\n",
        "#   lis = []\n",
        "#   for i in text.split():\n",
        "#     lis.append(ps.stem(i))\n",
        "\n",
        "#   return \" \".join(lis)\n",
        "\n",
        "# df['tags'] = df['tags'].apply(stem)"
      ]
    },
    {
      "cell_type": "code",
      "execution_count": 17,
      "metadata": {
        "id": "CethWNZdSaRQ"
      },
      "outputs": [],
      "source": [
        "# CV = CountVectorizer(max_features = 5000, stop_words = 'english')\n",
        "# tagsVector = CV.fit_transform(df.tags).toarray()"
      ]
    },
    {
      "cell_type": "code",
      "execution_count": 18,
      "metadata": {},
      "outputs": [],
      "source": [
        "# print(CV.get_feature_names_out()[:100])"
      ]
    },
    {
      "cell_type": "markdown",
      "metadata": {},
      "source": [
        "#Using TF-IDF"
      ]
    },
    {
      "cell_type": "code",
      "execution_count": 19,
      "metadata": {},
      "outputs": [],
      "source": [
        "# from sklearn.feature_extraction.text import TfidfVectorizer\n",
        "# tfidf = TfidfVectorizer(max_features=5000, stop_words='english')\n",
        "\n",
        "# tagsVector = tfidf.fit_transform(df.tags).toarray()"
      ]
    },
    {
      "cell_type": "code",
      "execution_count": 20,
      "metadata": {
        "colab": {
          "base_uri": "https://localhost:8080/"
        },
        "id": "z-6ilrDoSyeM",
        "outputId": "848377d5-3938-4f77-d152-f96a844ca62b"
      },
      "outputs": [],
      "source": [
        "# print(tagsVector[0],tagsVector.shape)\n",
        "# print(df.info())"
      ]
    },
    {
      "cell_type": "markdown",
      "metadata": {},
      "source": [
        "#Using Transformer"
      ]
    },
    {
      "cell_type": "code",
      "execution_count": 21,
      "metadata": {},
      "outputs": [
        {
          "name": "stderr",
          "output_type": "stream",
          "text": [
            "c:\\Users\\Dell\\AppData\\Local\\Programs\\Python\\Python312\\Lib\\site-packages\\tqdm\\auto.py:21: TqdmWarning: IProgress not found. Please update jupyter and ipywidgets. See https://ipywidgets.readthedocs.io/en/stable/user_install.html\n",
            "  from .autonotebook import tqdm as notebook_tqdm\n",
            "Batches: 100%|██████████| 291/291 [03:09<00:00,  1.54it/s]\n"
          ]
        }
      ],
      "source": [
        "from sentence_transformers import SentenceTransformer\n",
        "model = SentenceTransformer('all-MiniLM-L6-v2')\n",
        "\n",
        "tagsVector = model.encode(df.tags.tolist(), show_progress_bar=True, convert_to_tensor=True)"
      ]
    },
    {
      "cell_type": "code",
      "execution_count": 22,
      "metadata": {},
      "outputs": [
        {
          "data": {
            "text/plain": [
              "torch.Size([9303, 384])"
            ]
          },
          "execution_count": 22,
          "metadata": {},
          "output_type": "execute_result"
        }
      ],
      "source": [
        "tagsVector.shape"
      ]
    },
    {
      "cell_type": "code",
      "execution_count": 23,
      "metadata": {
        "id": "ByxfBjbLdFw8"
      },
      "outputs": [],
      "source": [
        "similarityVector = cosine_similarity(tagsVector)\n"
      ]
    },
    {
      "cell_type": "code",
      "execution_count": 24,
      "metadata": {
        "colab": {
          "base_uri": "https://localhost:8080/"
        },
        "id": "kyVamHigiIbL",
        "outputId": "633841e2-133e-4d6a-a5c2-7111e97e5f17"
      },
      "outputs": [
        {
          "name": "stdout",
          "output_type": "stream",
          "text": [
            "[0.29246935 0.39189014 0.44278872 ... 0.31385303 0.19538535 0.99999994] (9303, 9303)\n",
            "[1.0000002  0.13748765 0.2334899  ... 0.1317269  0.20603037 0.29246935] (9303, 9303)\n"
          ]
        }
      ],
      "source": [
        "print(similarityVector[-1], similarityVector.shape)\n",
        "print(similarityVector[0], similarityVector.shape)\n"
      ]
    },
    {
      "cell_type": "code",
      "execution_count": 25,
      "metadata": {
        "id": "6OL9UMLhDIrN"
      },
      "outputs": [],
      "source": [
        "def recommend(movieId):\n",
        "  index = df[ df['imdb_id'] == movieId ].index[0]\n",
        "  distances = list(enumerate(similarityVector[index]))\n",
        "  distances.sort(reverse=True, key=lambda x:x[1])\n",
        "  return distances[:11]\n",
        "\n",
        "def recommendFromTitle(title):\n",
        "  index = df[ df['original_title'] == title ].index[0]\n",
        "  distances = list(enumerate(similarityVector[index]))\n",
        "  distances.sort(reverse=True, key=lambda x:x[1])\n",
        "  return distances[:11]"
      ]
    },
    {
      "cell_type": "code",
      "execution_count": 26,
      "metadata": {
        "id": "CCvjVdOznL43"
      },
      "outputs": [],
      "source": [
        "def getMovieNameList(lis):\n",
        "  ret = []\n",
        "  for i,l in lis:\n",
        "    ret.append((df.iloc[i].original_title,l))\n",
        "\n",
        "  return ret\n",
        "\n",
        "def getMoviewIdList(lis):\n",
        "  ret = []\n",
        "  for i,l in lis:\n",
        "    ret.append(df.iloc[i].imdb_id)\n",
        "\n",
        "  return ret"
      ]
    },
    {
      "cell_type": "code",
      "execution_count": 27,
      "metadata": {},
      "outputs": [
        {
          "name": "stdout",
          "output_type": "stream",
          "text": [
            "[(1516, 1.0), (2319, 0.7734235), (4425, 0.6816374), (14, 0.6581156), (4361, 0.61483735), (3564, 0.60183525), (2979, 0.5821423), (870, 0.5751971), (578, 0.5636698), (4535, 0.55285704), (3890, 0.55246115)]\n",
            "[('Iron Man 2', 1.0), ('Iron Man', 0.7734235), ('Iron Man 3', 0.6816374), ('Avengers: Age of Ultron', 0.6581156), ('Steel', 0.61483735), ('The Avengers', 0.60183525), ('Marvel One-Shot: The Consultant', 0.5821423), ('Iron Man & Captain America: Heroes United', 0.5751971), ('Marvel One-Shot: All Hail the King', 0.5636698), ('Machete Kills', 0.55285704), ('Superman vs. The Elite', 0.55246115)]\n"
          ]
        }
      ],
      "source": [
        "print((  recommendFromTitle('Iron Man 2')  ) )\n",
        "print(getMovieNameList(  recommendFromTitle('Iron Man 2')  ) )"
      ]
    },
    {
      "cell_type": "code",
      "execution_count": 28,
      "metadata": {
        "colab": {
          "base_uri": "https://localhost:8080/"
        },
        "id": "1m57Ru8iiqMU",
        "outputId": "8e252475-bbab-49c0-d684-dccecd84cd92"
      },
      "outputs": [
        {
          "name": "stdout",
          "output_type": "stream",
          "text": [
            "[('Iron Man 2', 1.0), ('Iron Man', 0.7734235), ('Iron Man 3', 0.6816374), ('Avengers: Age of Ultron', 0.6581156), ('Steel', 0.61483735), ('The Avengers', 0.60183525), ('Marvel One-Shot: The Consultant', 0.5821423), ('Iron Man & Captain America: Heroes United', 0.5751971), ('Marvel One-Shot: All Hail the King', 0.5636698), ('Machete Kills', 0.55285704), ('Superman vs. The Elite', 0.55246115)]\n"
          ]
        }
      ],
      "source": [
        "print(getMovieNameList(  recommend('tt1228705')  ) )"
      ]
    },
    {
      "cell_type": "code",
      "execution_count": 29,
      "metadata": {
        "id": "yYjUS9ewoj4n"
      },
      "outputs": [],
      "source": [
        "import pickle\n",
        "# pickle.dump(df, open('movies.pkl', 'wb'))"
      ]
    },
    {
      "cell_type": "code",
      "execution_count": 30,
      "metadata": {
        "id": "ANVaaDmyZirA"
      },
      "outputs": [],
      "source": [
        "# pickle.dump(similarityVector, open('similarityVector.pkl', 'wb'))\n",
        "# pickle.dump(similarityVector, open('similarityVectorTFIDF.pkl', 'wb'))\n",
        "pickle.dump(similarityVector, open('similarityVectorTransformer.pkl', 'wb'))"
      ]
    }
  ],
  "metadata": {
    "colab": {
      "provenance": []
    },
    "kernelspec": {
      "display_name": "Python 3",
      "language": "python",
      "name": "python3"
    },
    "language_info": {
      "codemirror_mode": {
        "name": "ipython",
        "version": 3
      },
      "file_extension": ".py",
      "mimetype": "text/x-python",
      "name": "python",
      "nbconvert_exporter": "python",
      "pygments_lexer": "ipython3",
      "version": "3.12.1"
    }
  },
  "nbformat": 4,
  "nbformat_minor": 0
}
