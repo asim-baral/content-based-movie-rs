{
  "nbformat": 4,
  "nbformat_minor": 0,
  "metadata": {
    "colab": {
      "provenance": []
    },
    "kernelspec": {
      "name": "python3",
      "display_name": "Python 3"
    },
    "language_info": {
      "name": "python"
    }
  },
  "cells": [
    {
      "cell_type": "code",
      "execution_count": null,
      "metadata": {
        "id": "fFK0oXJTIhjp"
      },
      "outputs": [],
      "source": [
        "import pandas as pd\n",
        "from sklearn.feature_extraction.text import CountVectorizer\n",
        "from sklearn.metrics.pairwise import cosine_similarity"
      ]
    },
    {
      "cell_type": "code",
      "source": [
        "url = \"https://raw.githubusercontent.com/yinghaoz1/tmdb-movie-dataset-analysis/refs/heads/master/tmdb-movies.csv\"\n",
        "importedDf = pd.read_csv(url)"
      ],
      "metadata": {
        "id": "DZ-BUnn_JSb3"
      },
      "execution_count": null,
      "outputs": []
    },
    {
      "cell_type": "code",
      "source": [
        "importedDf.iloc[0]"
      ],
      "metadata": {
        "colab": {
          "base_uri": "https://localhost:8080/",
          "height": 742
        },
        "id": "KNGwGgAhL1hX",
        "outputId": "79027a70-3c2f-44b1-e494-01dfa931dee7"
      },
      "execution_count": null,
      "outputs": [
        {
          "output_type": "execute_result",
          "data": {
            "text/plain": [
              "id                                                                 135397\n",
              "imdb_id                                                         tt0369610\n",
              "popularity                                                      32.985763\n",
              "budget                                                          150000000\n",
              "revenue                                                        1513528810\n",
              "original_title                                             Jurassic World\n",
              "cast                    Chris Pratt|Bryce Dallas Howard|Irrfan Khan|Vi...\n",
              "homepage                                    http://www.jurassicworld.com/\n",
              "director                                                  Colin Trevorrow\n",
              "tagline                                                 The park is open.\n",
              "keywords                monster|dna|tyrannosaurus rex|velociraptor|island\n",
              "overview                Twenty-two years after the events of Jurassic ...\n",
              "runtime                                                               124\n",
              "genres                          Action|Adventure|Science Fiction|Thriller\n",
              "production_companies    Universal Studios|Amblin Entertainment|Legenda...\n",
              "release_date                                                       6/9/15\n",
              "vote_count                                                           5562\n",
              "vote_average                                                          6.5\n",
              "release_year                                                         2015\n",
              "budget_adj                                               137999939.280026\n",
              "revenue_adj                                               1392445892.5238\n",
              "Name: 0, dtype: object"
            ],
            "text/html": [
              "<div>\n",
              "<style scoped>\n",
              "    .dataframe tbody tr th:only-of-type {\n",
              "        vertical-align: middle;\n",
              "    }\n",
              "\n",
              "    .dataframe tbody tr th {\n",
              "        vertical-align: top;\n",
              "    }\n",
              "\n",
              "    .dataframe thead th {\n",
              "        text-align: right;\n",
              "    }\n",
              "</style>\n",
              "<table border=\"1\" class=\"dataframe\">\n",
              "  <thead>\n",
              "    <tr style=\"text-align: right;\">\n",
              "      <th></th>\n",
              "      <th>0</th>\n",
              "    </tr>\n",
              "  </thead>\n",
              "  <tbody>\n",
              "    <tr>\n",
              "      <th>id</th>\n",
              "      <td>135397</td>\n",
              "    </tr>\n",
              "    <tr>\n",
              "      <th>imdb_id</th>\n",
              "      <td>tt0369610</td>\n",
              "    </tr>\n",
              "    <tr>\n",
              "      <th>popularity</th>\n",
              "      <td>32.985763</td>\n",
              "    </tr>\n",
              "    <tr>\n",
              "      <th>budget</th>\n",
              "      <td>150000000</td>\n",
              "    </tr>\n",
              "    <tr>\n",
              "      <th>revenue</th>\n",
              "      <td>1513528810</td>\n",
              "    </tr>\n",
              "    <tr>\n",
              "      <th>original_title</th>\n",
              "      <td>Jurassic World</td>\n",
              "    </tr>\n",
              "    <tr>\n",
              "      <th>cast</th>\n",
              "      <td>Chris Pratt|Bryce Dallas Howard|Irrfan Khan|Vi...</td>\n",
              "    </tr>\n",
              "    <tr>\n",
              "      <th>homepage</th>\n",
              "      <td>http://www.jurassicworld.com/</td>\n",
              "    </tr>\n",
              "    <tr>\n",
              "      <th>director</th>\n",
              "      <td>Colin Trevorrow</td>\n",
              "    </tr>\n",
              "    <tr>\n",
              "      <th>tagline</th>\n",
              "      <td>The park is open.</td>\n",
              "    </tr>\n",
              "    <tr>\n",
              "      <th>keywords</th>\n",
              "      <td>monster|dna|tyrannosaurus rex|velociraptor|island</td>\n",
              "    </tr>\n",
              "    <tr>\n",
              "      <th>overview</th>\n",
              "      <td>Twenty-two years after the events of Jurassic ...</td>\n",
              "    </tr>\n",
              "    <tr>\n",
              "      <th>runtime</th>\n",
              "      <td>124</td>\n",
              "    </tr>\n",
              "    <tr>\n",
              "      <th>genres</th>\n",
              "      <td>Action|Adventure|Science Fiction|Thriller</td>\n",
              "    </tr>\n",
              "    <tr>\n",
              "      <th>production_companies</th>\n",
              "      <td>Universal Studios|Amblin Entertainment|Legenda...</td>\n",
              "    </tr>\n",
              "    <tr>\n",
              "      <th>release_date</th>\n",
              "      <td>6/9/15</td>\n",
              "    </tr>\n",
              "    <tr>\n",
              "      <th>vote_count</th>\n",
              "      <td>5562</td>\n",
              "    </tr>\n",
              "    <tr>\n",
              "      <th>vote_average</th>\n",
              "      <td>6.5</td>\n",
              "    </tr>\n",
              "    <tr>\n",
              "      <th>release_year</th>\n",
              "      <td>2015</td>\n",
              "    </tr>\n",
              "    <tr>\n",
              "      <th>budget_adj</th>\n",
              "      <td>137999939.280026</td>\n",
              "    </tr>\n",
              "    <tr>\n",
              "      <th>revenue_adj</th>\n",
              "      <td>1392445892.5238</td>\n",
              "    </tr>\n",
              "  </tbody>\n",
              "</table>\n",
              "</div><br><label><b>dtype:</b> object</label>"
            ]
          },
          "metadata": {},
          "execution_count": 3
        }
      ]
    },
    {
      "cell_type": "code",
      "source": [
        "importedDf.info()"
      ],
      "metadata": {
        "colab": {
          "base_uri": "https://localhost:8080/"
        },
        "id": "PzU94q_3LNgi",
        "outputId": "b057ab98-f7bb-430a-9e2f-41cfc001dbd7"
      },
      "execution_count": null,
      "outputs": [
        {
          "output_type": "stream",
          "name": "stdout",
          "text": [
            "<class 'pandas.core.frame.DataFrame'>\n",
            "RangeIndex: 10866 entries, 0 to 10865\n",
            "Data columns (total 21 columns):\n",
            " #   Column                Non-Null Count  Dtype  \n",
            "---  ------                --------------  -----  \n",
            " 0   id                    10866 non-null  int64  \n",
            " 1   imdb_id               10856 non-null  object \n",
            " 2   popularity            10866 non-null  float64\n",
            " 3   budget                10866 non-null  int64  \n",
            " 4   revenue               10866 non-null  int64  \n",
            " 5   original_title        10866 non-null  object \n",
            " 6   cast                  10790 non-null  object \n",
            " 7   homepage              2936 non-null   object \n",
            " 8   director              10822 non-null  object \n",
            " 9   tagline               8042 non-null   object \n",
            " 10  keywords              9373 non-null   object \n",
            " 11  overview              10862 non-null  object \n",
            " 12  runtime               10866 non-null  int64  \n",
            " 13  genres                10843 non-null  object \n",
            " 14  production_companies  9836 non-null   object \n",
            " 15  release_date          10866 non-null  object \n",
            " 16  vote_count            10866 non-null  int64  \n",
            " 17  vote_average          10866 non-null  float64\n",
            " 18  release_year          10866 non-null  int64  \n",
            " 19  budget_adj            10866 non-null  float64\n",
            " 20  revenue_adj           10866 non-null  float64\n",
            "dtypes: float64(4), int64(6), object(11)\n",
            "memory usage: 1.7+ MB\n"
          ]
        }
      ]
    },
    {
      "cell_type": "code",
      "source": [
        "df = importedDf.loc[:,['imdb_id', 'original_title', 'cast', 'director', 'keywords', 'overview', 'genres', 'vote_average', 'release_year']]\n",
        "df.info()"
      ],
      "metadata": {
        "colab": {
          "base_uri": "https://localhost:8080/"
        },
        "id": "SEGrcRIXLPoV",
        "outputId": "ff74b9f2-8a6c-4ca2-a29e-415f7539d80f"
      },
      "execution_count": null,
      "outputs": [
        {
          "output_type": "stream",
          "name": "stdout",
          "text": [
            "<class 'pandas.core.frame.DataFrame'>\n",
            "RangeIndex: 10866 entries, 0 to 10865\n",
            "Data columns (total 9 columns):\n",
            " #   Column          Non-Null Count  Dtype  \n",
            "---  ------          --------------  -----  \n",
            " 0   imdb_id         10856 non-null  object \n",
            " 1   original_title  10866 non-null  object \n",
            " 2   cast            10790 non-null  object \n",
            " 3   director        10822 non-null  object \n",
            " 4   keywords        9373 non-null   object \n",
            " 5   overview        10862 non-null  object \n",
            " 6   genres          10843 non-null  object \n",
            " 7   vote_average    10866 non-null  float64\n",
            " 8   release_year    10866 non-null  int64  \n",
            "dtypes: float64(1), int64(1), object(7)\n",
            "memory usage: 764.1+ KB\n"
          ]
        }
      ]
    },
    {
      "cell_type": "code",
      "source": [
        "df = df.dropna().reset_index(drop=True)\n",
        "df.info()"
      ],
      "metadata": {
        "colab": {
          "base_uri": "https://localhost:8080/"
        },
        "id": "Lx2jQcQAMx1s",
        "outputId": "3c2ea105-228a-4c1c-9bd9-2bb26539c812"
      },
      "execution_count": null,
      "outputs": [
        {
          "output_type": "stream",
          "name": "stdout",
          "text": [
            "<class 'pandas.core.frame.DataFrame'>\n",
            "RangeIndex: 9303 entries, 0 to 9302\n",
            "Data columns (total 9 columns):\n",
            " #   Column          Non-Null Count  Dtype  \n",
            "---  ------          --------------  -----  \n",
            " 0   imdb_id         9303 non-null   object \n",
            " 1   original_title  9303 non-null   object \n",
            " 2   cast            9303 non-null   object \n",
            " 3   director        9303 non-null   object \n",
            " 4   keywords        9303 non-null   object \n",
            " 5   overview        9303 non-null   object \n",
            " 6   genres          9303 non-null   object \n",
            " 7   vote_average    9303 non-null   float64\n",
            " 8   release_year    9303 non-null   int64  \n",
            "dtypes: float64(1), int64(1), object(7)\n",
            "memory usage: 654.2+ KB\n"
          ]
        }
      ]
    },
    {
      "cell_type": "code",
      "source": [
        "df.cast = df.cast.str.replace(' ','_')\n",
        "df.cast = df.cast.str.replace('|',' ')"
      ],
      "metadata": {
        "id": "BoqvKzanNZ9a"
      },
      "execution_count": null,
      "outputs": []
    },
    {
      "cell_type": "code",
      "source": [
        "df.iloc[1].cast"
      ],
      "metadata": {
        "colab": {
          "base_uri": "https://localhost:8080/",
          "height": 36
        },
        "id": "SsbqtKv0GM5u",
        "outputId": "d6992024-156b-4d3a-910e-971fabddb6e2"
      },
      "execution_count": null,
      "outputs": [
        {
          "output_type": "execute_result",
          "data": {
            "text/plain": [
              "'Tom_Hardy Charlize_Theron Hugh_Keays-Byrne Nicholas_Hoult Josh_Helman'"
            ],
            "application/vnd.google.colaboratory.intrinsic+json": {
              "type": "string"
            }
          },
          "metadata": {},
          "execution_count": 8
        }
      ]
    },
    {
      "cell_type": "code",
      "source": [
        "df.director = df.director.str.replace(\" \", '_')\n",
        "df.director"
      ],
      "metadata": {
        "colab": {
          "base_uri": "https://localhost:8080/",
          "height": 458
        },
        "id": "FKmxylucGoof",
        "outputId": "feaba01f-ceb0-4df7-85d4-0fd2ddeb08c2"
      },
      "execution_count": null,
      "outputs": [
        {
          "output_type": "execute_result",
          "data": {
            "text/plain": [
              "0          Colin_Trevorrow\n",
              "1            George_Miller\n",
              "2         Robert_Schwentke\n",
              "3              J.J._Abrams\n",
              "4                James_Wan\n",
              "               ...        \n",
              "9298           Bruce_Brown\n",
              "9299    John_Frankenheimer\n",
              "9300        Eldar_Ryazanov\n",
              "9301           Woody_Allen\n",
              "9302      Harold_P._Warren\n",
              "Name: director, Length: 9303, dtype: object"
            ],
            "text/html": [
              "<div>\n",
              "<style scoped>\n",
              "    .dataframe tbody tr th:only-of-type {\n",
              "        vertical-align: middle;\n",
              "    }\n",
              "\n",
              "    .dataframe tbody tr th {\n",
              "        vertical-align: top;\n",
              "    }\n",
              "\n",
              "    .dataframe thead th {\n",
              "        text-align: right;\n",
              "    }\n",
              "</style>\n",
              "<table border=\"1\" class=\"dataframe\">\n",
              "  <thead>\n",
              "    <tr style=\"text-align: right;\">\n",
              "      <th></th>\n",
              "      <th>director</th>\n",
              "    </tr>\n",
              "  </thead>\n",
              "  <tbody>\n",
              "    <tr>\n",
              "      <th>0</th>\n",
              "      <td>Colin_Trevorrow</td>\n",
              "    </tr>\n",
              "    <tr>\n",
              "      <th>1</th>\n",
              "      <td>George_Miller</td>\n",
              "    </tr>\n",
              "    <tr>\n",
              "      <th>2</th>\n",
              "      <td>Robert_Schwentke</td>\n",
              "    </tr>\n",
              "    <tr>\n",
              "      <th>3</th>\n",
              "      <td>J.J._Abrams</td>\n",
              "    </tr>\n",
              "    <tr>\n",
              "      <th>4</th>\n",
              "      <td>James_Wan</td>\n",
              "    </tr>\n",
              "    <tr>\n",
              "      <th>...</th>\n",
              "      <td>...</td>\n",
              "    </tr>\n",
              "    <tr>\n",
              "      <th>9298</th>\n",
              "      <td>Bruce_Brown</td>\n",
              "    </tr>\n",
              "    <tr>\n",
              "      <th>9299</th>\n",
              "      <td>John_Frankenheimer</td>\n",
              "    </tr>\n",
              "    <tr>\n",
              "      <th>9300</th>\n",
              "      <td>Eldar_Ryazanov</td>\n",
              "    </tr>\n",
              "    <tr>\n",
              "      <th>9301</th>\n",
              "      <td>Woody_Allen</td>\n",
              "    </tr>\n",
              "    <tr>\n",
              "      <th>9302</th>\n",
              "      <td>Harold_P._Warren</td>\n",
              "    </tr>\n",
              "  </tbody>\n",
              "</table>\n",
              "<p>9303 rows × 1 columns</p>\n",
              "</div><br><label><b>dtype:</b> object</label>"
            ]
          },
          "metadata": {},
          "execution_count": 9
        }
      ]
    },
    {
      "cell_type": "code",
      "source": [
        "df.keywords = df.keywords.str.replace(' ','_')\n",
        "df.keywords = df.keywords.str.replace('|',' ')\n",
        "\n",
        "df.keywords"
      ],
      "metadata": {
        "colab": {
          "base_uri": "https://localhost:8080/",
          "height": 458
        },
        "id": "8EGwdjBGGvg4",
        "outputId": "b707d1b3-3d3a-4b0d-f136-33a10800a97d"
      },
      "execution_count": null,
      "outputs": [
        {
          "output_type": "execute_result",
          "data": {
            "text/plain": [
              "0       monster dna tyrannosaurus_rex velociraptor island\n",
              "1        future chase post-apocalyptic dystopia australia\n",
              "2       based_on_novel revolution dystopia sequel dyst...\n",
              "3                   android spaceship jedi space_opera 3d\n",
              "4                     car_race speed revenge suspense car\n",
              "                              ...                        \n",
              "9298                             surfer surfboard surfing\n",
              "9299                            car_race racing formula_1\n",
              "9300                             car trolley stealing_car\n",
              "9301                                                spoof\n",
              "9302                  fire gun drive sacrifice flashlight\n",
              "Name: keywords, Length: 9303, dtype: object"
            ],
            "text/html": [
              "<div>\n",
              "<style scoped>\n",
              "    .dataframe tbody tr th:only-of-type {\n",
              "        vertical-align: middle;\n",
              "    }\n",
              "\n",
              "    .dataframe tbody tr th {\n",
              "        vertical-align: top;\n",
              "    }\n",
              "\n",
              "    .dataframe thead th {\n",
              "        text-align: right;\n",
              "    }\n",
              "</style>\n",
              "<table border=\"1\" class=\"dataframe\">\n",
              "  <thead>\n",
              "    <tr style=\"text-align: right;\">\n",
              "      <th></th>\n",
              "      <th>keywords</th>\n",
              "    </tr>\n",
              "  </thead>\n",
              "  <tbody>\n",
              "    <tr>\n",
              "      <th>0</th>\n",
              "      <td>monster dna tyrannosaurus_rex velociraptor island</td>\n",
              "    </tr>\n",
              "    <tr>\n",
              "      <th>1</th>\n",
              "      <td>future chase post-apocalyptic dystopia australia</td>\n",
              "    </tr>\n",
              "    <tr>\n",
              "      <th>2</th>\n",
              "      <td>based_on_novel revolution dystopia sequel dyst...</td>\n",
              "    </tr>\n",
              "    <tr>\n",
              "      <th>3</th>\n",
              "      <td>android spaceship jedi space_opera 3d</td>\n",
              "    </tr>\n",
              "    <tr>\n",
              "      <th>4</th>\n",
              "      <td>car_race speed revenge suspense car</td>\n",
              "    </tr>\n",
              "    <tr>\n",
              "      <th>...</th>\n",
              "      <td>...</td>\n",
              "    </tr>\n",
              "    <tr>\n",
              "      <th>9298</th>\n",
              "      <td>surfer surfboard surfing</td>\n",
              "    </tr>\n",
              "    <tr>\n",
              "      <th>9299</th>\n",
              "      <td>car_race racing formula_1</td>\n",
              "    </tr>\n",
              "    <tr>\n",
              "      <th>9300</th>\n",
              "      <td>car trolley stealing_car</td>\n",
              "    </tr>\n",
              "    <tr>\n",
              "      <th>9301</th>\n",
              "      <td>spoof</td>\n",
              "    </tr>\n",
              "    <tr>\n",
              "      <th>9302</th>\n",
              "      <td>fire gun drive sacrifice flashlight</td>\n",
              "    </tr>\n",
              "  </tbody>\n",
              "</table>\n",
              "<p>9303 rows × 1 columns</p>\n",
              "</div><br><label><b>dtype:</b> object</label>"
            ]
          },
          "metadata": {},
          "execution_count": 10
        }
      ]
    },
    {
      "cell_type": "code",
      "source": [
        "df.genres = df.genres.str.replace(' ','_')\n",
        "df.genres = df.genres.str.replace('|',' ')\n",
        "\n",
        "df.genres"
      ],
      "metadata": {
        "colab": {
          "base_uri": "https://localhost:8080/",
          "height": 458
        },
        "id": "-lxWTUMRG5Wq",
        "outputId": "29b30841-1f14-4649-ce11-7cd87f17a645"
      },
      "execution_count": null,
      "outputs": [
        {
          "output_type": "execute_result",
          "data": {
            "text/plain": [
              "0       Action Adventure Science_Fiction Thriller\n",
              "1       Action Adventure Science_Fiction Thriller\n",
              "2              Adventure Science_Fiction Thriller\n",
              "3        Action Adventure Science_Fiction Fantasy\n",
              "4                           Action Crime Thriller\n",
              "                          ...                    \n",
              "9298                                  Documentary\n",
              "9299                       Action Adventure Drama\n",
              "9300                               Mystery Comedy\n",
              "9301                                Action Comedy\n",
              "9302                                       Horror\n",
              "Name: genres, Length: 9303, dtype: object"
            ],
            "text/html": [
              "<div>\n",
              "<style scoped>\n",
              "    .dataframe tbody tr th:only-of-type {\n",
              "        vertical-align: middle;\n",
              "    }\n",
              "\n",
              "    .dataframe tbody tr th {\n",
              "        vertical-align: top;\n",
              "    }\n",
              "\n",
              "    .dataframe thead th {\n",
              "        text-align: right;\n",
              "    }\n",
              "</style>\n",
              "<table border=\"1\" class=\"dataframe\">\n",
              "  <thead>\n",
              "    <tr style=\"text-align: right;\">\n",
              "      <th></th>\n",
              "      <th>genres</th>\n",
              "    </tr>\n",
              "  </thead>\n",
              "  <tbody>\n",
              "    <tr>\n",
              "      <th>0</th>\n",
              "      <td>Action Adventure Science_Fiction Thriller</td>\n",
              "    </tr>\n",
              "    <tr>\n",
              "      <th>1</th>\n",
              "      <td>Action Adventure Science_Fiction Thriller</td>\n",
              "    </tr>\n",
              "    <tr>\n",
              "      <th>2</th>\n",
              "      <td>Adventure Science_Fiction Thriller</td>\n",
              "    </tr>\n",
              "    <tr>\n",
              "      <th>3</th>\n",
              "      <td>Action Adventure Science_Fiction Fantasy</td>\n",
              "    </tr>\n",
              "    <tr>\n",
              "      <th>4</th>\n",
              "      <td>Action Crime Thriller</td>\n",
              "    </tr>\n",
              "    <tr>\n",
              "      <th>...</th>\n",
              "      <td>...</td>\n",
              "    </tr>\n",
              "    <tr>\n",
              "      <th>9298</th>\n",
              "      <td>Documentary</td>\n",
              "    </tr>\n",
              "    <tr>\n",
              "      <th>9299</th>\n",
              "      <td>Action Adventure Drama</td>\n",
              "    </tr>\n",
              "    <tr>\n",
              "      <th>9300</th>\n",
              "      <td>Mystery Comedy</td>\n",
              "    </tr>\n",
              "    <tr>\n",
              "      <th>9301</th>\n",
              "      <td>Action Comedy</td>\n",
              "    </tr>\n",
              "    <tr>\n",
              "      <th>9302</th>\n",
              "      <td>Horror</td>\n",
              "    </tr>\n",
              "  </tbody>\n",
              "</table>\n",
              "<p>9303 rows × 1 columns</p>\n",
              "</div><br><label><b>dtype:</b> object</label>"
            ]
          },
          "metadata": {},
          "execution_count": 11
        }
      ]
    },
    {
      "cell_type": "code",
      "source": [
        "df.release_year = ((df.release_year)//10)*10\n",
        "df.release_year"
      ],
      "metadata": {
        "colab": {
          "base_uri": "https://localhost:8080/",
          "height": 458
        },
        "id": "jiFI3BhTHKV5",
        "outputId": "7eabdcd5-1d94-4616-809f-fa6ae9a4e047"
      },
      "execution_count": null,
      "outputs": [
        {
          "output_type": "execute_result",
          "data": {
            "text/plain": [
              "0       2010\n",
              "1       2010\n",
              "2       2010\n",
              "3       2010\n",
              "4       2010\n",
              "        ... \n",
              "9298    1960\n",
              "9299    1960\n",
              "9300    1960\n",
              "9301    1960\n",
              "9302    1960\n",
              "Name: release_year, Length: 9303, dtype: int64"
            ],
            "text/html": [
              "<div>\n",
              "<style scoped>\n",
              "    .dataframe tbody tr th:only-of-type {\n",
              "        vertical-align: middle;\n",
              "    }\n",
              "\n",
              "    .dataframe tbody tr th {\n",
              "        vertical-align: top;\n",
              "    }\n",
              "\n",
              "    .dataframe thead th {\n",
              "        text-align: right;\n",
              "    }\n",
              "</style>\n",
              "<table border=\"1\" class=\"dataframe\">\n",
              "  <thead>\n",
              "    <tr style=\"text-align: right;\">\n",
              "      <th></th>\n",
              "      <th>release_year</th>\n",
              "    </tr>\n",
              "  </thead>\n",
              "  <tbody>\n",
              "    <tr>\n",
              "      <th>0</th>\n",
              "      <td>2010</td>\n",
              "    </tr>\n",
              "    <tr>\n",
              "      <th>1</th>\n",
              "      <td>2010</td>\n",
              "    </tr>\n",
              "    <tr>\n",
              "      <th>2</th>\n",
              "      <td>2010</td>\n",
              "    </tr>\n",
              "    <tr>\n",
              "      <th>3</th>\n",
              "      <td>2010</td>\n",
              "    </tr>\n",
              "    <tr>\n",
              "      <th>4</th>\n",
              "      <td>2010</td>\n",
              "    </tr>\n",
              "    <tr>\n",
              "      <th>...</th>\n",
              "      <td>...</td>\n",
              "    </tr>\n",
              "    <tr>\n",
              "      <th>9298</th>\n",
              "      <td>1960</td>\n",
              "    </tr>\n",
              "    <tr>\n",
              "      <th>9299</th>\n",
              "      <td>1960</td>\n",
              "    </tr>\n",
              "    <tr>\n",
              "      <th>9300</th>\n",
              "      <td>1960</td>\n",
              "    </tr>\n",
              "    <tr>\n",
              "      <th>9301</th>\n",
              "      <td>1960</td>\n",
              "    </tr>\n",
              "    <tr>\n",
              "      <th>9302</th>\n",
              "      <td>1960</td>\n",
              "    </tr>\n",
              "  </tbody>\n",
              "</table>\n",
              "<p>9303 rows × 1 columns</p>\n",
              "</div><br><label><b>dtype:</b> int64</label>"
            ]
          },
          "metadata": {},
          "execution_count": 12
        }
      ]
    },
    {
      "cell_type": "code",
      "source": [
        "# df['tags'] = df.cast + ' ' + df.director + ' ' + df.keywords + ' ' + df.genres + ' ' + df.overview\n",
        "df['tags'] = df.cast + ' ' + df.director + ' ' + df.keywords + ' ' + df.genres\n",
        "\n",
        "df.tags[0]"
      ],
      "metadata": {
        "colab": {
          "base_uri": "https://localhost:8080/",
          "height": 53
        },
        "id": "Xa8qgMbSHb-T",
        "outputId": "70aab698-651e-4c1a-c946-72de9e258e0a"
      },
      "execution_count": null,
      "outputs": [
        {
          "output_type": "execute_result",
          "data": {
            "text/plain": [
              "\"Chris_Pratt Bryce_Dallas_Howard Irrfan_Khan Vincent_D'Onofrio Nick_Robinson Colin_Trevorrow monster dna tyrannosaurus_rex velociraptor island Action Adventure Science_Fiction Thriller\""
            ],
            "application/vnd.google.colaboratory.intrinsic+json": {
              "type": "string"
            }
          },
          "metadata": {},
          "execution_count": 13
        }
      ]
    },
    {
      "cell_type": "code",
      "source": [
        "df.info()"
      ],
      "metadata": {
        "colab": {
          "base_uri": "https://localhost:8080/"
        },
        "id": "L_eD2xH-UG45",
        "outputId": "13615b1d-0eb7-40e8-9d71-1db8b62cb2f0"
      },
      "execution_count": null,
      "outputs": [
        {
          "output_type": "stream",
          "name": "stdout",
          "text": [
            "<class 'pandas.core.frame.DataFrame'>\n",
            "RangeIndex: 9303 entries, 0 to 9302\n",
            "Data columns (total 10 columns):\n",
            " #   Column          Non-Null Count  Dtype  \n",
            "---  ------          --------------  -----  \n",
            " 0   imdb_id         9303 non-null   object \n",
            " 1   original_title  9303 non-null   object \n",
            " 2   cast            9303 non-null   object \n",
            " 3   director        9303 non-null   object \n",
            " 4   keywords        9303 non-null   object \n",
            " 5   overview        9303 non-null   object \n",
            " 6   genres          9303 non-null   object \n",
            " 7   vote_average    9303 non-null   float64\n",
            " 8   release_year    9303 non-null   int64  \n",
            " 9   tags            9303 non-null   object \n",
            "dtypes: float64(1), int64(1), object(8)\n",
            "memory usage: 726.9+ KB\n"
          ]
        }
      ]
    },
    {
      "cell_type": "code",
      "source": [
        "from nltk.stem.porter import PorterStemmer\n",
        "ps = PorterStemmer()\n",
        "\n",
        "def stem(text):\n",
        "  lis = []\n",
        "  for i in text.split():\n",
        "    lis.append(ps.stem(i))\n",
        "\n",
        "  return \" \".join(lis)\n",
        "\n",
        "df['tags'] = df['tags'].apply(stem)"
      ],
      "metadata": {
        "id": "RTXT9s7Mddv-"
      },
      "execution_count": null,
      "outputs": []
    },
    {
      "cell_type": "code",
      "source": [
        "CV = CountVectorizer(max_features = 5000, stop_words = 'english')\n",
        "tagsVector = CV.fit_transform(df.tags).toarray()"
      ],
      "metadata": {
        "id": "CethWNZdSaRQ"
      },
      "execution_count": null,
      "outputs": []
    },
    {
      "cell_type": "code",
      "source": [
        "df = df.drop(columns = ['cast', 'director', 'keywords', 'overview', 'genres', 'release_year'])"
      ],
      "metadata": {
        "id": "z9C48RCXVSwH"
      },
      "execution_count": null,
      "outputs": []
    },
    {
      "cell_type": "code",
      "source": [
        "print(tagsVector[0],tagsVector.shape)\n",
        "print(df.info())"
      ],
      "metadata": {
        "colab": {
          "base_uri": "https://localhost:8080/"
        },
        "id": "z-6ilrDoSyeM",
        "outputId": "848377d5-3938-4f77-d152-f96a844ca62b"
      },
      "execution_count": null,
      "outputs": [
        {
          "output_type": "stream",
          "name": "stdout",
          "text": [
            "[0 0 0 ... 0 0 0] (9303, 5000)\n",
            "<class 'pandas.core.frame.DataFrame'>\n",
            "RangeIndex: 9303 entries, 0 to 9302\n",
            "Data columns (total 4 columns):\n",
            " #   Column          Non-Null Count  Dtype  \n",
            "---  ------          --------------  -----  \n",
            " 0   imdb_id         9303 non-null   object \n",
            " 1   original_title  9303 non-null   object \n",
            " 2   vote_average    9303 non-null   float64\n",
            " 3   tags            9303 non-null   object \n",
            "dtypes: float64(1), object(3)\n",
            "memory usage: 290.8+ KB\n",
            "None\n"
          ]
        }
      ]
    },
    {
      "cell_type": "code",
      "source": [
        "print(CV.get_feature_names_out()[:100])"
      ],
      "metadata": {
        "colab": {
          "base_uri": "https://localhost:8080/"
        },
        "id": "7ae_0J5iUjvW",
        "outputId": "a8d3f52d-5cc3-4ad1-f1fb-b8dc9b3ca215"
      },
      "execution_count": null,
      "outputs": [
        {
          "output_type": "stream",
          "name": "stdout",
          "text": [
            "['1970' '3d' '3d_anim' '50_cent' '_abram' '_allan_brocka' '_anderson'\n",
            " '_armstrong' '_austin' '_avildsen' '_b' '_bailey' '_barri' '_bassett'\n",
            " '_baxley' '_bel' '_benjamin' '_boarding_school' '_brook' '_brown' '_bush'\n",
            " '_caruso' '_chu' '_cobb' '_cook' '_cosmato' '_d' '_daili' '_davi'\n",
            " '_dickerson' '_dippã' '_dutton' '_elli' '_emmet_walsh' '_evan' '_ferr'\n",
            " '_ferrant' '_forman' '_fox' '_furi' '_g' '_gary_gray' '_germain' '_gr'\n",
            " '_grace_moretz' '_hal' '_henson' '_hogan' '_j' '_jackson' '_john'\n",
            " '_johnson' '_jon' '_jordan' '_jr' '_kennedi' '_knowl' '_kravitz' '_le'\n",
            " '_lee_ermey' '_lee_thompson' '_lest' '_littl' '_lovecraft' '_maci'\n",
            " '_mcginley' '_mclaglen' '_mil' '_murray_abraham' '_nelson'\n",
            " '_night_shyamalan' '_o' '_pakula' '_presid' '_reilli' '_romero' '_russel'\n",
            " '_ryan' '_sand' '_schaffn' '_scott' '_sevigni' '_simmon' '_simpson'\n",
            " '_smith' '_soldi' '_sweeney' '_t' '_thomas_howel' '_v' '_w' '_walsh'\n",
            " '_ward' '_whit' '_william' '_wilson' 'a_bern' 'a_conchita_alonso'\n",
            " 'a_leoni' 'a_maestro']\n"
          ]
        }
      ]
    },
    {
      "cell_type": "code",
      "source": [
        "similarityVector = cosine_similarity(tagsVector)"
      ],
      "metadata": {
        "id": "ByxfBjbLdFw8"
      },
      "execution_count": null,
      "outputs": []
    },
    {
      "cell_type": "code",
      "source": [
        "(similarityVector[-1], similarityVector.shape)"
      ],
      "metadata": {
        "colab": {
          "base_uri": "https://localhost:8080/"
        },
        "id": "kyVamHigiIbL",
        "outputId": "633841e2-133e-4d6a-a5c2-7111e97e5f17"
      },
      "execution_count": null,
      "outputs": [
        {
          "output_type": "execute_result",
          "data": {
            "text/plain": [
              "(array([0., 0., 0., ..., 0., 0., 1.]), (9303, 9303))"
            ]
          },
          "metadata": {},
          "execution_count": 22
        }
      ]
    },
    {
      "cell_type": "code",
      "source": [
        "def recommend(movieId):\n",
        "  index = df[ df['imdb_id'] == movieId ].index[0]\n",
        "  distances = list(enumerate(similarityVector[index]))\n",
        "  distances.sort(reverse=True, key=lambda x:x[1])\n",
        "  return distances[:11]\n",
        "\n",
        "def recommendFromTitle(title):\n",
        "  index = df[ df['original_title'] == title ].index[0]\n",
        "  distances = list(enumerate(similarityVector[index]))\n",
        "  distances.sort(reverse=True, key=lambda x:x[1])\n",
        "  return distances[:11]"
      ],
      "metadata": {
        "id": "6OL9UMLhDIrN"
      },
      "execution_count": null,
      "outputs": []
    },
    {
      "cell_type": "code",
      "source": [
        "def getMovieNameList(lis):\n",
        "  ret = []\n",
        "  for i,l in lis:\n",
        "    ret.append((df.iloc[i].original_title,l))\n",
        "\n",
        "  return ret\n",
        "\n",
        "def getMoviewIdList(lis):\n",
        "  ret = []\n",
        "  for i,l in lis:\n",
        "    ret.append(df.iloc[i].imdb_id)\n",
        "\n",
        "  return ret"
      ],
      "metadata": {
        "id": "CCvjVdOznL43"
      },
      "execution_count": null,
      "outputs": []
    },
    {
      "cell_type": "code",
      "source": [
        "print(getMovieNameList(  recommend('tt1228705')  ) )"
      ],
      "metadata": {
        "colab": {
          "base_uri": "https://localhost:8080/"
        },
        "id": "1m57Ru8iiqMU",
        "outputId": "8e252475-bbab-49c0-d684-dccecd84cd92"
      },
      "execution_count": null,
      "outputs": [
        {
          "output_type": "stream",
          "name": "stdout",
          "text": [
            "[('Iron Man 2', np.float64(1.0)), ('Iron Man', np.float64(0.6153846153846154)), ('Iron Man 3', np.float64(0.6139406135149206)), ('Avengers: Age of Ultron', np.float64(0.592999453328881)), ('The Avengers', np.float64(0.592999453328881)), ('The Fantastic Four', np.float64(0.49029033784546006)), ('Captain America: The Winter Soldier', np.float64(0.4447495899966608)), ('The Incredible Hulk', np.float64(0.44474958999666075)), ('Marvel One-Shot: The Consultant', np.float64(0.41812100500354543)), ('Thor: The Dark World', np.float64(0.41812100500354543)), ('Shogun Assassin', np.float64(0.41602514716892186))]\n"
          ]
        }
      ]
    },
    {
      "cell_type": "code",
      "source": [
        "print(getMovieNameList(  recommendFromTitle('Iron Man 2')  ) )"
      ],
      "metadata": {
        "colab": {
          "base_uri": "https://localhost:8080/"
        },
        "id": "RQ0iwJOuGjd1",
        "outputId": "681cdf2c-9307-424e-b343-ad253301337a"
      },
      "execution_count": null,
      "outputs": [
        {
          "output_type": "stream",
          "name": "stdout",
          "text": [
            "[('Iron Man 2', np.float64(1.0)), ('Iron Man', np.float64(0.6153846153846154)), ('Iron Man 3', np.float64(0.6139406135149206)), ('Avengers: Age of Ultron', np.float64(0.592999453328881)), ('The Avengers', np.float64(0.592999453328881)), ('The Fantastic Four', np.float64(0.49029033784546006)), ('Captain America: The Winter Soldier', np.float64(0.4447495899966608)), ('The Incredible Hulk', np.float64(0.44474958999666075)), ('Marvel One-Shot: The Consultant', np.float64(0.41812100500354543)), ('Thor: The Dark World', np.float64(0.41812100500354543)), ('Shogun Assassin', np.float64(0.41602514716892186))]\n"
          ]
        }
      ]
    },
    {
      "cell_type": "code",
      "source": [
        "# import pickle\n",
        "# pickle.dump(df, open('movies.pkl', 'wb'))"
      ],
      "metadata": {
        "id": "yYjUS9ewoj4n"
      },
      "execution_count": null,
      "outputs": []
    },
    {
      "cell_type": "code",
      "source": [
        "# pickle.dump(similarityVector, open('similarityVector2.pkl', 'wb'))"
      ],
      "metadata": {
        "id": "ANVaaDmyZirA"
      },
      "execution_count": null,
      "outputs": []
    },
    {
      "cell_type": "code",
      "source": [
        "# from google.colab import files\n",
        "# files.download('/content/similarityVector2.pkl')"
      ],
      "metadata": {
        "id": "5ZQhA2NkbG7k",
        "colab": {
          "base_uri": "https://localhost:8080/",
          "height": 34
        },
        "outputId": "2018553f-778b-43cb-bd7d-ba542e031f69"
      },
      "execution_count": null,
      "outputs": [
        {
          "output_type": "display_data",
          "data": {
            "text/plain": [
              "<IPython.core.display.Javascript object>"
            ],
            "application/javascript": [
              "\n",
              "    async function download(id, filename, size) {\n",
              "      if (!google.colab.kernel.accessAllowed) {\n",
              "        return;\n",
              "      }\n",
              "      const div = document.createElement('div');\n",
              "      const label = document.createElement('label');\n",
              "      label.textContent = `Downloading \"${filename}\": `;\n",
              "      div.appendChild(label);\n",
              "      const progress = document.createElement('progress');\n",
              "      progress.max = size;\n",
              "      div.appendChild(progress);\n",
              "      document.body.appendChild(div);\n",
              "\n",
              "      const buffers = [];\n",
              "      let downloaded = 0;\n",
              "\n",
              "      const channel = await google.colab.kernel.comms.open(id);\n",
              "      // Send a message to notify the kernel that we're ready.\n",
              "      channel.send({})\n",
              "\n",
              "      for await (const message of channel.messages) {\n",
              "        // Send a message to notify the kernel that we're ready.\n",
              "        channel.send({})\n",
              "        if (message.buffers) {\n",
              "          for (const buffer of message.buffers) {\n",
              "            buffers.push(buffer);\n",
              "            downloaded += buffer.byteLength;\n",
              "            progress.value = downloaded;\n",
              "          }\n",
              "        }\n",
              "      }\n",
              "      const blob = new Blob(buffers, {type: 'application/binary'});\n",
              "      const a = document.createElement('a');\n",
              "      a.href = window.URL.createObjectURL(blob);\n",
              "      a.download = filename;\n",
              "      div.appendChild(a);\n",
              "      a.click();\n",
              "      div.remove();\n",
              "    }\n",
              "  "
            ]
          },
          "metadata": {}
        },
        {
          "output_type": "display_data",
          "data": {
            "text/plain": [
              "<IPython.core.display.Javascript object>"
            ],
            "application/javascript": [
              "download(\"download_dfaaee27-e520-479b-9156-1cd53ecfc9ed\", \"similarityVector2.pkl\", 692366636)"
            ]
          },
          "metadata": {}
        }
      ]
    }
  ]
}